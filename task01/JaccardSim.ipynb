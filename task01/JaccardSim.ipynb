{
 "cells": [
  {
   "cell_type": "code",
   "execution_count": 58,
   "metadata": {},
   "outputs": [
    {
     "data": {
      "text/plain": [
       "4"
      ]
     },
     "execution_count": 58,
     "metadata": {},
     "output_type": "execute_result"
    }
   ],
   "source": [
    "def intersection(str1, str2):\n",
    "    set1 = set(str1)\n",
    "    set2 = set(str2)\n",
    "    \n",
    "    intersection = set1.intersection(set2)\n",
    "\n",
    "    result = ''.join(intersection)\n",
    "    \n",
    "    return len(result)\n",
    "\n",
    "s1 = 'Anshuman'\n",
    "s2 = 'Aryaman'\n",
    "intersection(s1, s2)\n",
    "        "
   ]
  },
  {
   "cell_type": "code",
   "execution_count": 63,
   "metadata": {},
   "outputs": [],
   "source": [
    "def union(s1, s2):\n",
    "    from collections import Counter\n",
    "    \n",
    "    count1 = Counter(s1)\n",
    "    count2 = Counter(s2)\n",
    "    \n",
    "    union_count = Counter()\n",
    "    \n",
    "    for char in count1:\n",
    "        union_count[char] = max(count1[char], count2[char])\n",
    "    for char in count2:\n",
    "        if char not in union_count:\n",
    "            union_count[char] = count2[char]\n",
    "    \n",
    "    result = []\n",
    "    for char in s1 + s2:\n",
    "        if union_count[char] > 0:\n",
    "            result.append(char)\n",
    "            union_count[char] -= 1\n",
    "    \n",
    "    return ''.join(result)\n"
   ]
  },
  {
   "cell_type": "code",
   "execution_count": 64,
   "metadata": {},
   "outputs": [],
   "source": [
    "def Jaccard_similarity(s1, s2):\n",
    "    l1 = len(s1)\n",
    "    l2 = len(s2)\n",
    "    it = intersection(s1, s2)\n",
    "    that = len(union(s1, s2))\n",
    "    return (it/that)"
   ]
  },
  {
   "cell_type": "code",
   "execution_count": 65,
   "metadata": {},
   "outputs": [
    {
     "name": "stdout",
     "output_type": "stream",
     "text": [
      "0.36363636363636365\n"
     ]
    }
   ],
   "source": [
    "ans = Jaccard_similarity('Anshuman', 'Aryaman')\n",
    "print(ans)"
   ]
  },
  {
   "cell_type": "code",
   "execution_count": null,
   "metadata": {},
   "outputs": [],
   "source": []
  }
 ],
 "metadata": {
  "kernelspec": {
   "display_name": "Python 3",
   "language": "python",
   "name": "python3"
  },
  "language_info": {
   "codemirror_mode": {
    "name": "ipython",
    "version": 3
   },
   "file_extension": ".py",
   "mimetype": "text/x-python",
   "name": "python",
   "nbconvert_exporter": "python",
   "pygments_lexer": "ipython3",
   "version": "3.11.4"
  }
 },
 "nbformat": 4,
 "nbformat_minor": 2
}
