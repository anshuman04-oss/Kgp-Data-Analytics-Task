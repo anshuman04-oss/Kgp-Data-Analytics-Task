{
 "cells": [
  {
   "cell_type": "code",
   "execution_count": 3,
   "metadata": {},
   "outputs": [],
   "source": [
    "import numpy as np\n",
    "import pandas as pd\n",
    "import matplotlib.pyplot as plt"
   ]
  },
  {
   "cell_type": "code",
   "execution_count": 12,
   "metadata": {},
   "outputs": [],
   "source": [
    "def LevDist(word1, word2):\n",
    "    l1 = len(word1)\n",
    "    l2 = len(word2)\n",
    "    dp = np.zeros((l1+1, l2+1))\n",
    "    \n",
    "    if l1 == 0:\n",
    "        return l2\n",
    "    if l2 == 0:\n",
    "        return l1\n",
    "    \n",
    "    for i in range(l1):\n",
    "        dp[i][0] = i\n",
    "    for j in range(l2):\n",
    "        dp[0][j] = j\n",
    "    \n",
    "    cost = 0\n",
    "    for i in range(l1):\n",
    "        for j in range(l2):\n",
    "            if(word2[j - 1] == word1[i - 1]):\n",
    "                cost = 1\n",
    "            else:\n",
    "                cost = 0\n",
    "                \n",
    "            dp[i][j] = min(min(dp[i-1][j] + 1, dp[i][j-1] + 1), dp[i-1][j-1] + cost)\n",
    "            \n",
    "    return dp\n",
    "                "
   ]
  },
  {
   "cell_type": "code",
   "execution_count": 15,
   "metadata": {},
   "outputs": [
    {
     "name": "stdout",
     "output_type": "stream",
     "text": [
      "The Levenshtein distance between 'horse' and 'ros' is 3.\n"
     ]
    }
   ],
   "source": [
    "def levenshtein_distance(s1, s2):\n",
    "    if len(s1) < len(s2):\n",
    "        return levenshtein_distance(s2, s1)\n",
    "\n",
    "    # If one of the strings is empty\n",
    "    if len(s2) == 0:\n",
    "        return len(s1)\n",
    "\n",
    "    # Initialize the distance matrix\n",
    "    previous_row = range(len(s2) + 1)\n",
    "    for i, c1 in enumerate(s1):\n",
    "        current_row = [i + 1]\n",
    "        for j, c2 in enumerate(s2):\n",
    "            insertions = previous_row[j + 1] + 1\n",
    "            deletions = current_row[j] + 1\n",
    "            substitutions = previous_row[j] + (c1 != c2)\n",
    "            current_row.append(min(insertions, deletions, substitutions))\n",
    "        previous_row = current_row\n",
    "\n",
    "    return previous_row[-1]"
   ]
  },
  {
   "cell_type": "code",
   "execution_count": 17,
   "metadata": {},
   "outputs": [
    {
     "name": "stdout",
     "output_type": "stream",
     "text": [
      "4\n"
     ]
    }
   ],
   "source": [
    "print(levenshtein_distance(\"Anshuman\", \"Aryaman\"))"
   ]
  },
  {
   "cell_type": "code",
   "execution_count": null,
   "metadata": {},
   "outputs": [],
   "source": []
  }
 ],
 "metadata": {
  "kernelspec": {
   "display_name": "Python 3",
   "language": "python",
   "name": "python3"
  },
  "language_info": {
   "codemirror_mode": {
    "name": "ipython",
    "version": 3
   },
   "file_extension": ".py",
   "mimetype": "text/x-python",
   "name": "python",
   "nbconvert_exporter": "python",
   "pygments_lexer": "ipython3",
   "version": "3.11.4"
  }
 },
 "nbformat": 4,
 "nbformat_minor": 2
}
