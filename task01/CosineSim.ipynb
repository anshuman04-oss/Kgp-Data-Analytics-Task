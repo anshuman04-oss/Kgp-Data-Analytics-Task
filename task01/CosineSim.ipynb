{
 "cells": [
  {
   "cell_type": "code",
   "execution_count": 1,
   "metadata": {},
   "outputs": [],
   "source": [
    "import numpy as np\n",
    "import pandas as pd\n",
    "import matplotlib.pyplot as plt\n",
    "from collections import Counter"
   ]
  },
  {
   "cell_type": "code",
   "execution_count": 2,
   "metadata": {},
   "outputs": [],
   "source": [
    "target = ['doctor', 'engineer', 'teacher', 'lawyer', 'accountant', 'nurse', 'police', 'architect', 'dentist', 'pharmacist']"
   ]
  },
  {
   "cell_type": "code",
   "execution_count": 3,
   "metadata": {},
   "outputs": [],
   "source": [
    "df = pd.read_excel('TaskData02.xlsx')"
   ]
  },
  {
   "cell_type": "code",
   "execution_count": 4,
   "metadata": {},
   "outputs": [
    {
     "data": {
      "text/plain": [
       "(1406, 1)"
      ]
     },
     "execution_count": 4,
     "metadata": {},
     "output_type": "execute_result"
    }
   ],
   "source": [
    "df.to_csv('CareerData.csv', index = False)\n",
    "df.shape"
   ]
  },
  {
   "cell_type": "code",
   "execution_count": 5,
   "metadata": {},
   "outputs": [],
   "source": [
    "def word_to_vector(word):\n",
    "    # Create a dictionary to count characters in the word\n",
    "    char_count = Counter(word)\n",
    "    \n",
    "    # Create a vector representation of the word\n",
    "    vector = np.zeros(26)  # Assuming only lowercase English alphabets\n",
    "    \n",
    "    for char, count in char_count.items():\n",
    "        if char.isalpha():\n",
    "            index = ord(char) - ord('a')  # Convert character to index (0-25)\n",
    "            vector[index] = count\n",
    "    \n",
    "    return vector"
   ]
  },
  {
   "cell_type": "code",
   "execution_count": 6,
   "metadata": {},
   "outputs": [],
   "source": [
    "def cosine_similarity(vector1, vector2):\n",
    "    dot_product = np.dot(vector1, vector2)\n",
    "    norm1 = np.linalg.norm(vector1)\n",
    "    norm2 = np.linalg.norm(vector2)\n",
    "    \n",
    "    similarity = dot_product / (norm1 * norm2)\n",
    "    return similarity"
   ]
  },
  {
   "cell_type": "code",
   "execution_count": 7,
   "metadata": {},
   "outputs": [],
   "source": [
    "def find_best_fit_word(misspelled_word, target_words):\n",
    "    # Convert the misspelled word into a vector\n",
    "    misspelled_vector = word_to_vector(misspelled_word)\n",
    "    \n",
    "    # Convert each target word into a vector and calculate cosine similarity\n",
    "    best_similarity = -1  # Initialize with a minimum value\n",
    "    best_fit_word = None\n",
    "    \n",
    "    for target_word in target_words:\n",
    "        target_vector = word_to_vector(target_word)\n",
    "        similarity = cosine_similarity(misspelled_vector, target_vector)\n",
    "        \n",
    "        # Update best fit word if similarity is higher\n",
    "        if similarity > best_similarity:\n",
    "            best_similarity = similarity\n",
    "            best_fit_word = target_word\n",
    "    \n",
    "    return best_fit_word, best_similarity"
   ]
  },
  {
   "cell_type": "code",
   "execution_count": 9,
   "metadata": {},
   "outputs": [
    {
     "ename": "IndexError",
     "evalue": "index -29 is out of bounds for axis 0 with size 26",
     "output_type": "error",
     "traceback": [
      "\u001b[1;31m---------------------------------------------------------------------------\u001b[0m",
      "\u001b[1;31mIndexError\u001b[0m                                Traceback (most recent call last)",
      "Cell \u001b[1;32mIn[9], line 2\u001b[0m\n\u001b[0;32m      1\u001b[0m misspelled_word \u001b[38;5;241m=\u001b[39m \u001b[38;5;124m\"\u001b[39m\u001b[38;5;124mDACTAR\u001b[39m\u001b[38;5;124m\"\u001b[39m\n\u001b[1;32m----> 2\u001b[0m best_fit_word, similarity \u001b[38;5;241m=\u001b[39m \u001b[43mfind_best_fit_word\u001b[49m\u001b[43m(\u001b[49m\u001b[43mmisspelled_word\u001b[49m\u001b[43m,\u001b[49m\u001b[43m \u001b[49m\u001b[43mtarget\u001b[49m\u001b[43m)\u001b[49m\n\u001b[0;32m      3\u001b[0m \u001b[38;5;28mprint\u001b[39m(\u001b[38;5;124m\"\u001b[39m\u001b[38;5;124mBest fitting word:\u001b[39m\u001b[38;5;124m\"\u001b[39m, best_fit_word)\n\u001b[0;32m      4\u001b[0m \u001b[38;5;28mprint\u001b[39m(\u001b[38;5;124m\"\u001b[39m\u001b[38;5;124mCosine similarity:\u001b[39m\u001b[38;5;124m\"\u001b[39m, similarity)\n",
      "Cell \u001b[1;32mIn[7], line 3\u001b[0m, in \u001b[0;36mfind_best_fit_word\u001b[1;34m(misspelled_word, target_words)\u001b[0m\n\u001b[0;32m      1\u001b[0m \u001b[38;5;28;01mdef\u001b[39;00m \u001b[38;5;21mfind_best_fit_word\u001b[39m(misspelled_word, target_words):\n\u001b[0;32m      2\u001b[0m     \u001b[38;5;66;03m# Convert the misspelled word into a vector\u001b[39;00m\n\u001b[1;32m----> 3\u001b[0m     misspelled_vector \u001b[38;5;241m=\u001b[39m \u001b[43mword_to_vector\u001b[49m\u001b[43m(\u001b[49m\u001b[43mmisspelled_word\u001b[49m\u001b[43m)\u001b[49m\n\u001b[0;32m      5\u001b[0m     \u001b[38;5;66;03m# Convert each target word into a vector and calculate cosine similarity\u001b[39;00m\n\u001b[0;32m      6\u001b[0m     best_similarity \u001b[38;5;241m=\u001b[39m \u001b[38;5;241m-\u001b[39m\u001b[38;5;241m1\u001b[39m  \u001b[38;5;66;03m# Initialize with a minimum value\u001b[39;00m\n",
      "Cell \u001b[1;32mIn[5], line 11\u001b[0m, in \u001b[0;36mword_to_vector\u001b[1;34m(word)\u001b[0m\n\u001b[0;32m      9\u001b[0m     \u001b[38;5;28;01mif\u001b[39;00m char\u001b[38;5;241m.\u001b[39misalpha():\n\u001b[0;32m     10\u001b[0m         index \u001b[38;5;241m=\u001b[39m \u001b[38;5;28mord\u001b[39m(char) \u001b[38;5;241m-\u001b[39m \u001b[38;5;28mord\u001b[39m(\u001b[38;5;124m'\u001b[39m\u001b[38;5;124ma\u001b[39m\u001b[38;5;124m'\u001b[39m)  \u001b[38;5;66;03m# Convert character to index (0-25)\u001b[39;00m\n\u001b[1;32m---> 11\u001b[0m         \u001b[43mvector\u001b[49m\u001b[43m[\u001b[49m\u001b[43mindex\u001b[49m\u001b[43m]\u001b[49m \u001b[38;5;241m=\u001b[39m count\n\u001b[0;32m     13\u001b[0m \u001b[38;5;28;01mreturn\u001b[39;00m vector\n",
      "\u001b[1;31mIndexError\u001b[0m: index -29 is out of bounds for axis 0 with size 26"
     ]
    }
   ],
   "source": [
    "misspelled_word = \"DACTAR\"\n",
    "best_fit_word, similarity = find_best_fit_word(misspelled_word, target)\n",
    "print(\"Best fitting word:\", best_fit_word)\n",
    "print(\"Cosine similarity:\", similarity)"
   ]
  },
  {
   "cell_type": "code",
   "execution_count": null,
   "metadata": {},
   "outputs": [],
   "source": []
  }
 ],
 "metadata": {
  "kernelspec": {
   "display_name": "Python 3",
   "language": "python",
   "name": "python3"
  },
  "language_info": {
   "codemirror_mode": {
    "name": "ipython",
    "version": 3
   },
   "file_extension": ".py",
   "mimetype": "text/x-python",
   "name": "python",
   "nbconvert_exporter": "python",
   "pygments_lexer": "ipython3",
   "version": "3.11.4"
  }
 },
 "nbformat": 4,
 "nbformat_minor": 2
}
