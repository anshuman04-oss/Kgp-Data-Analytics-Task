{
 "cells": [
  {
   "cell_type": "code",
   "execution_count": 2,
   "metadata": {},
   "outputs": [],
   "source": [
    "import numpy as np\n",
    "import pandas as pd\n",
    "from sklearn.datasets import make_blobs\n",
    "import matplotlib.pyplot as plt\n",
    "import random\n",
    "from PIL import Image"
   ]
  },
  {
   "cell_type": "code",
   "execution_count": 3,
   "metadata": {},
   "outputs": [],
   "source": [
    "image_path1 = r'D:\\drive-download-20240511T193904Z-001\\1.png'\n",
    "image_path2 = r'D:\\drive-download-20240511T193904Z-001\\2.png'\n",
    "image_path3 = r'D:\\drive-download-20240511T193904Z-001\\3.png'\n",
    "image_path4 = r'D:\\drive-download-20240511T193904Z-001\\4.png'\n",
    "\n",
    "# img = []\n",
    "img1 = Image.open(image_path1)\n",
    "img2 = Image.open(image_path2)\n",
    "img3 = Image.open(image_path3)\n",
    "img4 = Image.open(image_path4)\n",
    "\n",
    "# Convert to greyscale\n",
    "image_gray1 = img1.convert(\"L\")         \n",
    "image_gray2 = img2.convert(\"L\")\n",
    "image_gray3 = img3.convert(\"L\")\n",
    "image_gray4 = img4.convert(\"L\")"
   ]
  },
  {
   "cell_type": "code",
   "execution_count": 4,
   "metadata": {},
   "outputs": [],
   "source": [
    "def model(img):\n",
    "    \n",
    "    # To convert the pixels of the images into a 2D array\n",
    "    image_gray = img.convert(\"L\")\n",
    "    \n",
    "    image_array = np.array(image_gray)\n",
    "    \n",
    "    return image_array"
   ]
  },
  {
   "cell_type": "code",
   "execution_count": 5,
   "metadata": {},
   "outputs": [
    {
     "data": {
      "text/plain": [
       "(64, 64)"
      ]
     },
     "execution_count": 5,
     "metadata": {},
     "output_type": "execute_result"
    }
   ],
   "source": [
    "pxls = model(img2)\n",
    "pxls.shape"
   ]
  },
  {
   "cell_type": "code",
   "execution_count": 6,
   "metadata": {},
   "outputs": [
    {
     "data": {
      "text/plain": [
       "array([[21, 25],\n",
       "       [21, 28],\n",
       "       [21, 35],\n",
       "       [22, 31],\n",
       "       [23, 26],\n",
       "       [23, 27],\n",
       "       [23, 29],\n",
       "       [23, 36],\n",
       "       [24, 25],\n",
       "       [24, 26],\n",
       "       [24, 28],\n",
       "       [25, 29],\n",
       "       [25, 31],\n",
       "       [25, 34],\n",
       "       [26, 24],\n",
       "       [26, 26],\n",
       "       [26, 31],\n",
       "       [26, 33],\n",
       "       [27, 25],\n",
       "       [27, 27],\n",
       "       [27, 28],\n",
       "       [27, 29],\n",
       "       [27, 30],\n",
       "       [27, 31],\n",
       "       [28, 25],\n",
       "       [28, 26],\n",
       "       [28, 28],\n",
       "       [28, 29],\n",
       "       [28, 30],\n",
       "       [28, 32],\n",
       "       [28, 36],\n",
       "       [29, 26],\n",
       "       [30, 23],\n",
       "       [30, 25],\n",
       "       [30, 28],\n",
       "       [30, 30],\n",
       "       [30, 32],\n",
       "       [31, 31],\n",
       "       [33, 29],\n",
       "       [39, 36],\n",
       "       [39, 38],\n",
       "       [39, 39],\n",
       "       [39, 44],\n",
       "       [40, 26],\n",
       "       [40, 44],\n",
       "       [41, 41],\n",
       "       [41, 42],\n",
       "       [42, 38],\n",
       "       [42, 41],\n",
       "       [42, 44],\n",
       "       [42, 45],\n",
       "       [43, 20],\n",
       "       [43, 23],\n",
       "       [43, 37],\n",
       "       [43, 38],\n",
       "       [43, 40],\n",
       "       [43, 44],\n",
       "       [44, 19],\n",
       "       [44, 23],\n",
       "       [44, 25],\n",
       "       [44, 26],\n",
       "       [44, 37],\n",
       "       [44, 39],\n",
       "       [44, 40],\n",
       "       [44, 41],\n",
       "       [44, 44],\n",
       "       [45, 37],\n",
       "       [45, 38],\n",
       "       [45, 39],\n",
       "       [45, 41],\n",
       "       [45, 42],\n",
       "       [45, 51],\n",
       "       [46, 14],\n",
       "       [46, 18],\n",
       "       [46, 25],\n",
       "       [46, 38],\n",
       "       [46, 39],\n",
       "       [46, 42],\n",
       "       [46, 43],\n",
       "       [46, 44],\n",
       "       [47, 24],\n",
       "       [47, 42],\n",
       "       [47, 43],\n",
       "       [47, 44],\n",
       "       [48, 18],\n",
       "       [48, 20],\n",
       "       [48, 26],\n",
       "       [48, 36],\n",
       "       [48, 37],\n",
       "       [48, 38],\n",
       "       [48, 40],\n",
       "       [49, 43],\n",
       "       [50, 19],\n",
       "       [50, 21],\n",
       "       [50, 22],\n",
       "       [50, 28],\n",
       "       [50, 46],\n",
       "       [51, 20],\n",
       "       [51, 22],\n",
       "       [51, 23],\n",
       "       [51, 25],\n",
       "       [51, 35],\n",
       "       [51, 37],\n",
       "       [51, 40],\n",
       "       [52, 21],\n",
       "       [52, 24],\n",
       "       [52, 27],\n",
       "       [53, 24],\n",
       "       [53, 37],\n",
       "       [54, 26],\n",
       "       [56, 28],\n",
       "       [56, 33]])"
      ]
     },
     "execution_count": 6,
     "metadata": {},
     "output_type": "execute_result"
    }
   ],
   "source": [
    "X = []\n",
    "for i in range(64):\n",
    "    for j in range(64):\n",
    "        if pxls[i][j] != 0:\n",
    "            X.append([i, j])\n",
    "        \n",
    "X = np.array(X)\n",
    "X"
   ]
  },
  {
   "cell_type": "code",
   "execution_count": 8,
   "metadata": {},
   "outputs": [
    {
     "data": {
      "image/png": "[encoded data removed]",
      "text/plain": [
       "<Figure size 640x480 with 1 Axes>"
      ]
     },
     "metadata": {},
     "output_type": "display_data"
    }
   ],
   "source": [
    "plt.scatter(X[:, 0], X[:, 1])\n",
    "plt.show()"
   ]
  },
  {
   "cell_type": "code",
   "execution_count": 10,
   "metadata": {},
   "outputs": [],
   "source": [
    "def ElbowMethod(data, max_clusters):\n",
    "    # We have to choose one by one points with their centroids assigned correctly.\n",
    "    # Then we have to calculate variances for each of the points selected.\n",
    "    varArr = []\n",
    "    for i in range(max_clusters):\n",
    "        km = KMeans(i, 100)\n",
    "        clusters, centroids = km.fix_predict(data)\n",
    "        ## Now, we have iterate over each cluster points and measure their square of distances and add them\n",
    "        ## to get the variance for each k.\n",
    "        var = 0\n",
    "        ## On calling km.assign_clusters, we will get clusters assigned the values of 0, 1, ......, i values.\n",
    "        l = len(clusters)\n",
    "        for j in range(i):\n",
    "            ## for each clusters,\n",
    "            for ele in clusters:\n",
    "                if ele == j:\n",
    "                    var += np.dot(ele-centroids, ele-centroids)\n",
    "                    \n",
    "        varArr.append(var)\n",
    "        \n",
    "    return varArr"
   ]
  },
  {
   "cell_type": "code",
   "execution_count": 11,
   "metadata": {},
   "outputs": [
    {
     "ename": "NameError",
     "evalue": "name 'KMeans' is not defined",
     "output_type": "error",
     "traceback": [
      "\u001b[1;31m---------------------------------------------------------------------------\u001b[0m",
      "\u001b[1;31mNameError\u001b[0m                                 Traceback (most recent call last)",
      "Cell \u001b[1;32mIn[11], line 1\u001b[0m\n\u001b[1;32m----> 1\u001b[0m varArr \u001b[38;5;241m=\u001b[39m \u001b[43mElbowMethod\u001b[49m\u001b[43m(\u001b[49m\u001b[43mX\u001b[49m\u001b[43m,\u001b[49m\u001b[43m \u001b[49m\u001b[38;5;241;43m10\u001b[39;49m\u001b[43m)\u001b[49m\n",
      "Cell \u001b[1;32mIn[10], line 6\u001b[0m, in \u001b[0;36mElbowMethod\u001b[1;34m(data, max_clusters)\u001b[0m\n\u001b[0;32m      4\u001b[0m varArr \u001b[38;5;241m=\u001b[39m []\n\u001b[0;32m      5\u001b[0m \u001b[38;5;28;01mfor\u001b[39;00m i \u001b[38;5;129;01min\u001b[39;00m \u001b[38;5;28mrange\u001b[39m(max_clusters):\n\u001b[1;32m----> 6\u001b[0m     km \u001b[38;5;241m=\u001b[39m \u001b[43mKMeans\u001b[49m(i, \u001b[38;5;241m100\u001b[39m)\n\u001b[0;32m      7\u001b[0m     clusters, centroids \u001b[38;5;241m=\u001b[39m km\u001b[38;5;241m.\u001b[39mfix_predict(data)\n\u001b[0;32m      8\u001b[0m     \u001b[38;5;66;03m## Now, we have iterate over each cluster points and measure their square of distances and add them\u001b[39;00m\n\u001b[0;32m      9\u001b[0m     \u001b[38;5;66;03m## to get the variance for each k.\u001b[39;00m\n",
      "\u001b[1;31mNameError\u001b[0m: name 'KMeans' is not defined"
     ]
    }
   ],
   "source": [
    "varArr = ElbowMethod(X, 10)"
   ]
  },
  {
   "cell_type": "code",
   "execution_count": null,
   "metadata": {},
   "outputs": [],
   "source": []
  }
 ],
 "metadata": {
  "kernelspec": {
   "display_name": "Python 3",
   "language": "python",
   "name": "python3"
  },
  "language_info": {
   "codemirror_mode": {
    "name": "ipython",
    "version": 3
   },
   "file_extension": ".py",
   "mimetype": "text/x-python",
   "name": "python",
   "nbconvert_exporter": "python",
   "pygments_lexer": "ipython3",
   "version": "3.11.4"
  }
 },
 "nbformat": 4,
 "nbformat_minor": 2
}
