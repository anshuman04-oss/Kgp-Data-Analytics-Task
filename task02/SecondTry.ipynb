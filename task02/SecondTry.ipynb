{
 "cells": [
  {
   "cell_type": "code",
   "execution_count": 1,
   "metadata": {},
   "outputs": [],
   "source": [
    "import numpy as np\n",
    "import pandas as pd \n",
    "import matplotlib.pyplot as plt\n",
    "from PIL import Image"
   ]
  },
  {
   "cell_type": "code",
   "execution_count": 2,
   "metadata": {},
   "outputs": [],
   "source": [
    "## First testing for the given four pictures. assigning them the names\n",
    "image_path1 = r'D:\\drive-download-20240511T193904Z-001\\1.png'\n",
    "image_path2 = r'D:\\drive-download-20240511T193904Z-001\\2.png'\n",
    "image_path3 = r'D:\\drive-download-20240511T193904Z-001\\3.png'\n",
    "image_path4 = r'D:\\drive-download-20240511T193904Z-001\\4.png'"
   ]
  },
  {
   "cell_type": "code",
   "execution_count": 4,
   "metadata": {},
   "outputs": [],
   "source": [
    "# Instantiate the open methods of the class Image\n",
    "image1 = Image.open(image_path1)\n",
    "image2 = Image.open(image_path2)\n",
    "image3 = Image.open(image_path3)\n",
    "image4 = Image.open(image_path4)"
   ]
  },
  {
   "cell_type": "code",
   "execution_count": 6,
   "metadata": {},
   "outputs": [],
   "source": [
    "# Convert the images to greyscale\n",
    "imgGr1 = image1.convert('L')\n",
    "imgGr2 = image2.convert('L')\n",
    "imgGr3 = image3.convert('L')\n",
    "imgGr4 = image4.convert('L')"
   ]
  },
  {
   "cell_type": "code",
   "execution_count": 8,
   "metadata": {},
   "outputs": [],
   "source": [
    "# Convert the images to 2D arrays\n",
    "def convert(img):\n",
    "    imgGr = img.convert('L')\n",
    "    \n",
    "    imgArr = np.array(imgGr)\n",
    "    \n",
    "    return imgArr"
   ]
  },
  {
   "cell_type": "code",
   "execution_count": 12,
   "metadata": {},
   "outputs": [
    {
     "data": {
      "text/plain": [
       "array([[0, 0, 0, ..., 0, 0, 0],\n",
       "       [0, 0, 0, ..., 0, 0, 0],\n",
       "       [0, 0, 0, ..., 0, 0, 0],\n",
       "       ...,\n",
       "       [0, 0, 0, ..., 0, 0, 0],\n",
       "       [0, 0, 0, ..., 0, 0, 0],\n",
       "       [0, 0, 0, ..., 0, 0, 0]], dtype=uint8)"
      ]
     },
     "execution_count": 12,
     "metadata": {},
     "output_type": "execute_result"
    }
   ],
   "source": [
    "pxls = convert(image1)\n",
    "# pxls.sum()/255 -> 129 => We have 129 contrasting spots.\n",
    "pxls"
   ]
  },
  {
   "cell_type": "markdown",
   "metadata": {},
   "source": [
    "In the below cell, we have created a function to generate random centroids using choice method of random class of numpy library"
   ]
  },
  {
   "cell_type": "code",
   "execution_count": 15,
   "metadata": {},
   "outputs": [],
   "source": [
    "def randCent(data, k):\n",
    "    np.random.seed(1234)   # -> To always generate the same set of random numbers in a single go.\n",
    "    centInd = np.random.choice(data.shape[0], k, replace = False)\n",
    "    centroids = data[centInd]\n",
    "    return centroids\n",
    "\n",
    "## This function would return the rows in which the random centroids are there."
   ]
  },
  {
   "cell_type": "markdown",
   "metadata": {},
   "source": [
    "### Step 2 ->\n",
    "    Choose points one by one, measure the distances from each of the three selected points. Put all those points to the same category which are at the smallest distances from a particular point."
   ]
  },
  {
   "cell_type": "code",
   "execution_count": 1,
   "metadata": {},
   "outputs": [],
   "source": [
    "def giveClusters(data, centroids):\n",
    "    distances = np.sqrt(((centroids - data[:, np.newaxis]) ** 2).sum(axis = 2))\n",
    "    return np.argmin(distances, axis = 0)\n",
    "    # This would return the indices of minimum values along the row."
   ]
  },
  {
   "cell_type": "code",
   "execution_count": null,
   "metadata": {},
   "outputs": [],
   "source": [
    "def updateCentroid(data, k, clusters):\n",
    "        "
   ]
  }
 ],
 "metadata": {
  "kernelspec": {
   "display_name": "Python 3",
   "language": "python",
   "name": "python3"
  },
  "language_info": {
   "codemirror_mode": {
    "name": "ipython",
    "version": 3
   },
   "file_extension": ".py",
   "mimetype": "text/x-python",
   "name": "python",
   "nbconvert_exporter": "python",
   "pygments_lexer": "ipython3",
   "version": "3.11.4"
  }
 },
 "nbformat": 4,
 "nbformat_minor": 2
}
