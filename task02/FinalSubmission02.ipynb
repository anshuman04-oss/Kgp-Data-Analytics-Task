{
 "cells": [
  {
   "cell_type": "code",
   "execution_count": 1,
   "metadata": {},
   "outputs": [],
   "source": [
    "import numpy as np\n",
    "import pandas as pd\n",
    "from sklearn.datasets import make_blobs\n",
    "import matplotlib.pyplot as plt\n",
    "import random\n",
    "from PIL import Image"
   ]
  },
  {
   "cell_type": "markdown",
   "metadata": {},
   "source": [
    "Here, I have taken the downloaded datasets. One can try other datasets for this model. That's why, I created a class\n",
    "of k-means algorithm to generalize for external cases also. For trying other pictures, just replace any of the following image_path with the target image_path, and rest should work fine, I think"
   ]
  },
  {
   "cell_type": "code",
   "execution_count": 2,
   "metadata": {},
   "outputs": [],
   "source": [
    "# centroids = [(-5, -5), (5, 5)]\n",
    "# cluster_std = [1, 1]\n",
    "# X, y = make_blobs(n_samples=100, cluster_std=cluster_std, centers=centroids, n_features=2, random_state=2)\n",
    "image_path1 = r'D:\\drive-download-20240511T193904Z-001\\1.png'\n",
    "image_path2 = r'D:\\drive-download-20240511T193904Z-001\\2.png'\n",
    "image_path3 = r'D:\\drive-download-20240511T193904Z-001\\3.png'\n",
    "image_path4 = r'D:\\drive-download-20240511T193904Z-001\\4.png'\n",
    "\n",
    "# img = []\n",
    "img1 = Image.open(image_path1)\n",
    "img2 = Image.open(image_path2)\n",
    "img3 = Image.open(image_path3)\n",
    "img4 = Image.open(image_path4)\n",
    "\n",
    "# Convert to greyscale\n",
    "image_gray1 = img1.convert(\"L\")         \n",
    "image_gray2 = img2.convert(\"L\")\n",
    "image_gray3 = img3.convert(\"L\")\n",
    "image_gray4 = img4.convert(\"L\")"
   ]
  },
  {
   "cell_type": "code",
   "execution_count": 3,
   "metadata": {},
   "outputs": [],
   "source": [
    "def model(img):\n",
    "    \n",
    "    # To convert the pixels of the images into a 2D array\n",
    "    image_gray = img.convert(\"L\")\n",
    "    \n",
    "    image_array = np.array(image_gray)\n",
    "    \n",
    "    return image_array"
   ]
  },
  {
   "cell_type": "code",
   "execution_count": 4,
   "metadata": {},
   "outputs": [
    {
     "data": {
      "text/plain": [
       "(64, 64)"
      ]
     },
     "execution_count": 4,
     "metadata": {},
     "output_type": "execute_result"
    }
   ],
   "source": [
    "pxls = model(img1)\n",
    "pxls.shape"
   ]
  },
  {
   "cell_type": "code",
   "execution_count": 5,
   "metadata": {},
   "outputs": [
    {
     "data": {
      "text/plain": [
       "(129, 2)"
      ]
     },
     "execution_count": 5,
     "metadata": {},
     "output_type": "execute_result"
    }
   ],
   "source": [
    "X = []\n",
    "for i in range(64):\n",
    "    for j in range(64):\n",
    "        if pxls[i][j] != 0:\n",
    "            X.append([i, j])\n",
    "        \n",
    "X = np.array(X)\n",
    "X.shape\n",
    "\n",
    "## Why converting all to array, convert them who have one as their y value...."
   ]
  },
  {
   "cell_type": "markdown",
   "metadata": {},
   "source": [
    "### Steps for k-means clustering ->\n",
    "    1. decide clusters\n",
    "    2. select random centroids\n",
    "    3. assign clusters\n",
    "    4. move centroids\n",
    "    5. check finish"
   ]
  },
  {
   "cell_type": "code",
   "execution_count": 16,
   "metadata": {},
   "outputs": [],
   "source": [
    "class KMeans:\n",
    "    def __init__(self, n_clusters, max_iters):\n",
    "        self.n_clusters = n_clusters\n",
    "        self.max_iters = max_iters\n",
    "        self.centroids = None\n",
    "        \n",
    "    def fit_predict(self, X):\n",
    "        random_index = random.sample(range(0, X.shape[0]), self.n_clusters)\n",
    "        self.centroids = X[random_index]\n",
    "        \n",
    "        ## Now, the first two steps are done and we are left with last three steps. \n",
    "        \n",
    "        for i in range(self.max_iters):\n",
    "            # assign cluster\n",
    "            cluster_group = self.assign_clusters(X)\n",
    "            old_centroids = self.centroids\n",
    "            \n",
    "            # move centroids\n",
    "            self.centroids = self.move_centroids(X, cluster_group)\n",
    "            \n",
    "            # check finish.\n",
    "            if (old_centroids == self.centroids).all():\n",
    "                break\n",
    "                \n",
    "        return cluster_group, self.centroids\n",
    "            \n",
    "    def assign_clusters(self, X):\n",
    "        cluster_group = []\n",
    "        distances = []\n",
    "        # distances = np.sqrt(np.)\n",
    "        for row in X:\n",
    "            for centroid in self.centroids:\n",
    "                distances.append(np.sqrt(np.dot((row - centroid), (row - centroid))))\n",
    "            min_index = min(distances)\n",
    "            index_pos = distances.index(min_index)\n",
    "            cluster_group.append(index_pos)\n",
    "            distances.clear()\n",
    "        \n",
    "        return np.array(cluster_group)\n",
    "    \n",
    "        \n",
    "    def move_centroids(self, X, cluster_group):\n",
    "        \n",
    "        new_centroids = []\n",
    "        \n",
    "        clusterTypes = np.unique(cluster_group)\n",
    "        \n",
    "        for types in clusterTypes:\n",
    "            new_centroids.append(X[cluster_group == types].mean(axis = 0))\n",
    "        return np.array(new_centroids)"
   ]
  },
  {
   "cell_type": "markdown",
   "metadata": {},
   "source": [
    "Now, we need to calculate the distances between the centroids of each clusters.."
   ]
  },
  {
   "cell_type": "code",
   "execution_count": 17,
   "metadata": {},
   "outputs": [],
   "source": [
    "def ElbowMethod(data, max_clusters):\n",
    "    # We have to choose one by one points with their centroids assigned correctly.\n",
    "    # Then we have to calculate variances for each of the points selected.\n",
    "    varArr = []\n",
    "    slope = []\n",
    "    for i in range(1, max_clusters+1):\n",
    "        km = KMeans(i, 2000)\n",
    "        ## Here, I have increased the number of iterations to increase the accuracy of the model.\n",
    "        clusters, centroids = km.fit_predict(data)\n",
    "        ## Now, we have iterate over each cluster points and measure their square of distances and add them\n",
    "        ## to get the variance for each k.\n",
    "        var = 0\n",
    "        ## On calling km.assign_clusters, we will get clusters assigned the values of 0, 1, ......, i values.\n",
    "        l = clusters.shape[0]\n",
    "        for j in range(i):\n",
    "            ## for each clusters,\n",
    "            for k in range(l):\n",
    "                if clusters[k] == j:\n",
    "                    var += np.dot(data[k] - centroids[j], data[k] - centroids[j])\n",
    "                    \n",
    "        varArr.append(var)\n",
    "\n",
    "    size = len(varArr)\n",
    "    for i in range(size - 1):\n",
    "        slope.append((varArr[i+1] - varArr[i]))\n",
    "        \n",
    "    ## Let's try to get the value k using the slopes as if the left slope is about 10 times that of the right, \n",
    "    ## let it be the k...\n",
    "    k = 1\n",
    "    for i in range(max_clusters - 3):\n",
    "        if (abs(slope[i]) >= abs(slope[i+1])*10 and abs(slope[i]) >= abs(slope[i+2])*10):\n",
    "            k = i+2\n",
    "            break\n",
    "    return varArr, slope, k"
   ]
  },
  {
   "cell_type": "code",
   "execution_count": 18,
   "metadata": {},
   "outputs": [
    {
     "name": "stdout",
     "output_type": "stream",
     "text": [
      "[-32583.25553740963, -13856.766799968185, -265.0127328212143, -145.9596824065784, -505.3656416512906, 25.51566557473575, -349.21340061747014, 144.0970011835716, -364.617427978999]\n"
     ]
    },
    {
     "data": {
      "text/plain": [
       "3"
      ]
     },
     "execution_count": 18,
     "metadata": {},
     "output_type": "execute_result"
    }
   ],
   "source": [
    "varArr, slope, k = ElbowMethod(X, 10)\n",
    "print(slope)\n",
    "k\n",
    "\n",
    "## Sometimes, it is throwing error. If it throws error at any point, then please re run from the cell, containing \n",
    "## the KMeans class, and everything will be fine. On running it repetitively for different images, error is being\n",
    "## thrown with a message of broadcasting error."
   ]
  },
  {
   "cell_type": "code",
   "execution_count": 19,
   "metadata": {},
   "outputs": [
    {
     "data": {
      "image/png": "[encoded data removed]",
      "text/plain": [
       "<Figure size 640x480 with 1 Axes>"
      ]
     },
     "metadata": {},
     "output_type": "display_data"
    }
   ],
   "source": [
    "plt.plot(range(1, 11), varArr, marker = 'o')\n",
    "plt.xlabel('No. of clusters')\n",
    "plt.ylabel('Within-Cluster Sum of Squares (WCSS)')\n",
    "plt.title('Elbow Method')\n",
    "plt.show()"
   ]
  },
  {
   "cell_type": "code",
   "execution_count": 20,
   "metadata": {},
   "outputs": [
    {
     "data": {
      "image/png": "[encoded data removed]",
      "text/plain": [
       "<Figure size 640x480 with 1 Axes>"
      ]
     },
     "metadata": {},
     "output_type": "display_data"
    }
   ],
   "source": [
    "kmeans = KMeans(k, 1000)\n",
    "y_means, centroids = kmeans.fit_predict(X)\n",
    "clusters = kmeans.assign_clusters(X)\n",
    "# plt.scatter(X[y_means == 0, 0], X[y_means == 0, 1], color = 'red')\n",
    "# plt.scatter(X[y_means == 1, 0], X[y_means == 1, 1], color = 'blue')\n",
    "# plt.scatter(X[y_means == 2, 0], X[y_means == 2, 1], color = 'green')\n",
    "\n",
    "for i in range(k):\n",
    "    plt.scatter(X[y_means == i, 0], X[y_means == i, 1], color = \"#FF0000\")\n",
    "plt.show()\n",
    "# y_means"
   ]
  },
  {
   "cell_type": "code",
   "execution_count": 21,
   "metadata": {},
   "outputs": [
    {
     "data": {
      "text/plain": [
       "(129,)"
      ]
     },
     "execution_count": 21,
     "metadata": {},
     "output_type": "execute_result"
    }
   ],
   "source": [
    "y_means.shape"
   ]
  },
  {
   "cell_type": "code",
   "execution_count": 22,
   "metadata": {},
   "outputs": [
    {
     "data": {
      "text/plain": [
       "129"
      ]
     },
     "execution_count": 22,
     "metadata": {},
     "output_type": "execute_result"
    }
   ],
   "source": [
    "clusters.shape[0]"
   ]
  },
  {
   "cell_type": "code",
   "execution_count": 23,
   "metadata": {},
   "outputs": [
    {
     "data": {
      "text/plain": [
       "array([[19.7       , 58.425     ],\n",
       "       [38.93023256, 40.81395349],\n",
       "       [33.43478261, 16.45652174]])"
      ]
     },
     "execution_count": 23,
     "metadata": {},
     "output_type": "execute_result"
    }
   ],
   "source": [
    "centroids"
   ]
  },
  {
   "cell_type": "code",
   "execution_count": 24,
   "metadata": {},
   "outputs": [
    {
     "name": "stdout",
     "output_type": "stream",
     "text": [
      "Distance between the cities is in the order ((k-1)th, 1st), (1st, second)... is: \n"
     ]
    },
    {
     "data": {
      "text/plain": [
       "[44.158775128406916, 26.075866303439494, 24.969670633907217]"
      ]
     },
     "execution_count": 24,
     "metadata": {},
     "output_type": "execute_result"
    }
   ],
   "source": [
    "distances = []\n",
    "for i in range(0, k):\n",
    "    distances.append(np.sqrt(np.dot(centroids[i] - centroids[i - 1], centroids[i] - centroids[i - 1])))\n",
    "\n",
    "print('Distance between the cities is in the order ((k-1)th, 1st), (1st, second)... is: ')\n",
    "distances"
   ]
  },
  {
   "cell_type": "code",
   "execution_count": 25,
   "metadata": {},
   "outputs": [
    {
     "name": "stdout",
     "output_type": "stream",
     "text": [
      "Distances Table:\n",
      "Distance between 1 and 2 is 26.075866303439494\n",
      "Distance between 2 and 3 is 24.969670633907217\n",
      "Distance between 1 and 3 is 44.158775128406916\n"
     ]
    }
   ],
   "source": [
    "print('Distances Table:')\n",
    "for i in range(k - 1):\n",
    "    print(f'Distance between {i+1} and {i+2} is {distances[i + 1]}')\n",
    "print(f'Distance between 1 and {k} is {distances[0]}')"
   ]
  },
  {
   "cell_type": "code",
   "execution_count": null,
   "metadata": {},
   "outputs": [],
   "source": []
  },
  {
   "cell_type": "code",
   "execution_count": null,
   "metadata": {},
   "outputs": [],
   "source": []
  }
 ],
 "metadata": {
  "kernelspec": {
   "display_name": "Python 3",
   "language": "python",
   "name": "python3"
  },
  "language_info": {
   "codemirror_mode": {
    "name": "ipython",
    "version": 3
   },
   "file_extension": ".py",
   "mimetype": "text/x-python",
   "name": "python",
   "nbconvert_exporter": "python",
   "pygments_lexer": "ipython3",
   "version": "3.11.4"
  }
 },
 "nbformat": 4,
 "nbformat_minor": 2
}
